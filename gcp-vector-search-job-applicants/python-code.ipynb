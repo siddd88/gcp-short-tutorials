{
 "cells": [
  {
   "cell_type": "code",
   "execution_count": 21,
   "id": "0889c198-08f7-489d-a7cf-fe8c859d3bbe",
   "metadata": {
    "tags": []
   },
   "outputs": [],
   "source": [
    "from google.cloud import aiplatform\n",
    "from vertexai.preview.language_models import TextEmbeddingModel\n",
    "import tqdm,time\n",
    "\n",
    "PROJECT_ID = \"{project-name}\"\n",
    "LOCATION = \"us-central1\"\n",
    "\n",
    "aiplatform.init(project=PROJECT_ID,location=LOCATION)\n",
    "\n",
    "model = TextEmbeddingModel.from_pretrained(\"textembedding-gecko@001\")\n",
    "\n",
    "def get_embeddings_wrapper(texts, batch_size=5):\n",
    "    embeddings = []\n",
    "    for i in tqdm.tqdm(range(0, len(texts), batch_size)):\n",
    "        time.sleep(1) \n",
    "        batch_texts = texts[i:i+batch_size]\n",
    "        batch_embeddings = model.get_embeddings(batch_texts)\n",
    "        embeddings.extend([embedding.values for embedding in batch_embeddings])\n",
    "    return embeddings"
   ]
  },
  {
   "cell_type": "code",
   "execution_count": null,
   "id": "2616211a-7e26-4c58-b7ad-9033dd5b084b",
   "metadata": {},
   "outputs": [],
   "source": [
    "candidates_endpoint = aiplatform.MatchingEngineIndexEndpoint('projects/499192289487/locations/us-central1/indexEndpoints/3561665608040841216')"
   ]
  },
  {
   "cell_type": "code",
   "execution_count": 22,
   "id": "3a97acb0-1db9-4a6b-a70b-ec5ef87fc8f4",
   "metadata": {
    "tags": []
   },
   "outputs": [
    {
     "name": "stderr",
     "output_type": "stream",
     "text": [
      "100%|██████████| 1/1 [00:01<00:00,  1.13s/it]\n"
     ]
    }
   ],
   "source": [
    "user_prompt = \"We are looking for a data analyst with experience in creating dashboards and writing SQL queries\"\n",
    "\n",
    "input_embeddings = get_embeddings_wrapper([user_prompt])\n",
    "\n",
    "DEPLOYED_INDEX_ID = f\"job_applicants_index\"\n",
    "\n",
    "response = candidates_endpoint.find_neighbors(\n",
    "    deployed_index_id=DEPLOYED_INDEX_ID,\n",
    "    queries=test_embeddings,\n",
    "    num_neighbors=5,\n",
    ")"
   ]
  },
  {
   "cell_type": "code",
   "execution_count": 23,
   "id": "bf5232e6-405c-45d5-91af-03571d8c9988",
   "metadata": {
    "tags": []
   },
   "outputs": [
    {
     "data": {
      "text/plain": [
       "[[MatchNeighbor(id='28', distance=0.7608683705329895, feature_vector=[], crowding_tag='0', restricts=[], numeric_restricts=[]),\n",
       "  MatchNeighbor(id='26', distance=0.7484495639801025, feature_vector=[], crowding_tag='0', restricts=[], numeric_restricts=[]),\n",
       "  MatchNeighbor(id='27', distance=0.7419502139091492, feature_vector=[], crowding_tag='0', restricts=[], numeric_restricts=[]),\n",
       "  MatchNeighbor(id='21', distance=0.7389892339706421, feature_vector=[], crowding_tag='0', restricts=[], numeric_restricts=[]),\n",
       "  MatchNeighbor(id='30', distance=0.737160325050354, feature_vector=[], crowding_tag='0', restricts=[], numeric_restricts=[])]]"
      ]
     },
     "execution_count": 23,
     "metadata": {},
     "output_type": "execute_result"
    }
   ],
   "source": [
    "response"
   ]
  }
 ],
 "metadata": {
  "environment": {
   "kernel": "python3",
   "name": "common-cpu.m119",
   "type": "gcloud",
   "uri": "us-docker.pkg.dev/deeplearning-platform-release/gcr.io/base-cpu:m119"
  },
  "kernelspec": {
   "display_name": "Python 3",
   "language": "python",
   "name": "python3"
  },
  "language_info": {
   "codemirror_mode": {
    "name": "ipython",
    "version": 3
   },
   "file_extension": ".py",
   "mimetype": "text/x-python",
   "name": "python",
   "nbconvert_exporter": "python",
   "pygments_lexer": "ipython3",
   "version": "3.10.14"
  }
 },
 "nbformat": 4,
 "nbformat_minor": 5
}
