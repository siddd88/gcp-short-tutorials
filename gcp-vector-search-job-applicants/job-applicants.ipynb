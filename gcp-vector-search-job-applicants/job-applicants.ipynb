{
 "cells": [
  {
   "cell_type": "code",
   "execution_count": null,
   "id": "f6064a58-d258-4856-83fa-cb789397a28a",
   "metadata": {},
   "outputs": [],
   "source": [
    "# %pip install --upgrade --user --quiet google-cloud-aiplatform google-cloud-storage"
   ]
  },
  {
   "cell_type": "code",
   "execution_count": 34,
   "id": "7fcd5653-96ee-4c26-b861-d1037ae0bafa",
   "metadata": {
    "tags": []
   },
   "outputs": [],
   "source": [
    "import pandas as pd\n",
    "from google.cloud import storage, aiplatform\n",
    "from vertexai.preview.language_models import TextEmbeddingModel\n",
    "import vertexai\n",
    "import tqdm\n",
    "import time\n",
    "\n",
    "PROJECT_ID = \"{project-name}\"\n",
    "LOCATION = \"us-central1\"\n",
    "BUCKET_NAME = \"{bucket-name}\"\n",
    "CSV_FILE_PATH = \"talent_acquisition_profiles.csv\"\n",
    "\n",
    "vertexai.init(project=PROJECT_ID, location=LOCATION)\n",
    "\n",
    "df = pd.read_csv(CSV_FILE_PATH)"
   ]
  },
  {
   "cell_type": "code",
   "execution_count": 35,
   "id": "0978a0c4-fcf0-4004-90c5-027cb6caf4ff",
   "metadata": {
    "tags": []
   },
   "outputs": [
    {
     "data": {
      "text/html": [
       "<div>\n",
       "<style scoped>\n",
       "    .dataframe tbody tr th:only-of-type {\n",
       "        vertical-align: middle;\n",
       "    }\n",
       "\n",
       "    .dataframe tbody tr th {\n",
       "        vertical-align: top;\n",
       "    }\n",
       "\n",
       "    .dataframe thead th {\n",
       "        text-align: right;\n",
       "    }\n",
       "</style>\n",
       "<table border=\"1\" class=\"dataframe\">\n",
       "  <thead>\n",
       "    <tr style=\"text-align: right;\">\n",
       "      <th></th>\n",
       "      <th>id</th>\n",
       "      <th>name</th>\n",
       "      <th>total_experience</th>\n",
       "      <th>current_designation</th>\n",
       "      <th>overview</th>\n",
       "    </tr>\n",
       "  </thead>\n",
       "  <tbody>\n",
       "    <tr>\n",
       "      <th>0</th>\n",
       "      <td>1</td>\n",
       "      <td>Michael Carpenter</td>\n",
       "      <td>2</td>\n",
       "      <td>Data Engineer</td>\n",
       "      <td>managed database solutions in PostgreSQL/Mongo...</td>\n",
       "    </tr>\n",
       "    <tr>\n",
       "      <th>1</th>\n",
       "      <td>2</td>\n",
       "      <td>Katie Turner</td>\n",
       "      <td>10</td>\n",
       "      <td>Sr Data Engineer</td>\n",
       "      <td>integrated streaming data processing using Kaf...</td>\n",
       "    </tr>\n",
       "    <tr>\n",
       "      <th>2</th>\n",
       "      <td>3</td>\n",
       "      <td>Michael Graham</td>\n",
       "      <td>10</td>\n",
       "      <td>Sr Data Engineer</td>\n",
       "      <td>drove cloud migrations and optimizations. deve...</td>\n",
       "    </tr>\n",
       "    <tr>\n",
       "      <th>3</th>\n",
       "      <td>4</td>\n",
       "      <td>Paul Martin</td>\n",
       "      <td>13</td>\n",
       "      <td>Lead Data Engineer</td>\n",
       "      <td>architected enterprise data solutions on AWS/G...</td>\n",
       "    </tr>\n",
       "    <tr>\n",
       "      <th>4</th>\n",
       "      <td>5</td>\n",
       "      <td>Robert Sullivan</td>\n",
       "      <td>7</td>\n",
       "      <td>Sr Data Engineer</td>\n",
       "      <td>enhanced data warehousing strategies with Reds...</td>\n",
       "    </tr>\n",
       "  </tbody>\n",
       "</table>\n",
       "</div>"
      ],
      "text/plain": [
       "   id               name  total_experience current_designation  \\\n",
       "0   1  Michael Carpenter                 2       Data Engineer   \n",
       "1   2       Katie Turner                10    Sr Data Engineer   \n",
       "2   3     Michael Graham                10    Sr Data Engineer   \n",
       "3   4        Paul Martin                13  Lead Data Engineer   \n",
       "4   5    Robert Sullivan                 7    Sr Data Engineer   \n",
       "\n",
       "                                            overview  \n",
       "0  managed database solutions in PostgreSQL/Mongo...  \n",
       "1  integrated streaming data processing using Kaf...  \n",
       "2  drove cloud migrations and optimizations. deve...  \n",
       "3  architected enterprise data solutions on AWS/G...  \n",
       "4  enhanced data warehousing strategies with Reds...  "
      ]
     },
     "execution_count": 35,
     "metadata": {},
     "output_type": "execute_result"
    }
   ],
   "source": [
    "df.head()"
   ]
  },
  {
   "cell_type": "code",
   "execution_count": 36,
   "id": "6cc7b62d-8460-424b-8c10-a2103070f517",
   "metadata": {
    "tags": []
   },
   "outputs": [],
   "source": [
    "df['combined_details'] = df.apply(lambda row: f\"{row['name']} {row['total_experience']} years {row['current_designation']} {row['overview']}\", axis=1)\n",
    "\n",
    "model = TextEmbeddingModel.from_pretrained(\"textembedding-gecko@001\")"
   ]
  },
  {
   "cell_type": "code",
   "execution_count": 37,
   "id": "e6af3c24-c8fb-431c-9080-1f5b31d9b398",
   "metadata": {
    "tags": []
   },
   "outputs": [
    {
     "data": {
      "text/html": [
       "<div>\n",
       "<style scoped>\n",
       "    .dataframe tbody tr th:only-of-type {\n",
       "        vertical-align: middle;\n",
       "    }\n",
       "\n",
       "    .dataframe tbody tr th {\n",
       "        vertical-align: top;\n",
       "    }\n",
       "\n",
       "    .dataframe thead th {\n",
       "        text-align: right;\n",
       "    }\n",
       "</style>\n",
       "<table border=\"1\" class=\"dataframe\">\n",
       "  <thead>\n",
       "    <tr style=\"text-align: right;\">\n",
       "      <th></th>\n",
       "      <th>id</th>\n",
       "      <th>name</th>\n",
       "      <th>total_experience</th>\n",
       "      <th>current_designation</th>\n",
       "      <th>overview</th>\n",
       "      <th>combined_details</th>\n",
       "    </tr>\n",
       "  </thead>\n",
       "  <tbody>\n",
       "    <tr>\n",
       "      <th>0</th>\n",
       "      <td>1</td>\n",
       "      <td>Michael Carpenter</td>\n",
       "      <td>2</td>\n",
       "      <td>Data Engineer</td>\n",
       "      <td>managed database solutions in PostgreSQL/Mongo...</td>\n",
       "      <td>Michael Carpenter 2 years Data Engineer manage...</td>\n",
       "    </tr>\n",
       "    <tr>\n",
       "      <th>1</th>\n",
       "      <td>2</td>\n",
       "      <td>Katie Turner</td>\n",
       "      <td>10</td>\n",
       "      <td>Sr Data Engineer</td>\n",
       "      <td>integrated streaming data processing using Kaf...</td>\n",
       "      <td>Katie Turner 10 years Sr Data Engineer integra...</td>\n",
       "    </tr>\n",
       "    <tr>\n",
       "      <th>2</th>\n",
       "      <td>3</td>\n",
       "      <td>Michael Graham</td>\n",
       "      <td>10</td>\n",
       "      <td>Sr Data Engineer</td>\n",
       "      <td>drove cloud migrations and optimizations. deve...</td>\n",
       "      <td>Michael Graham 10 years Sr Data Engineer drove...</td>\n",
       "    </tr>\n",
       "    <tr>\n",
       "      <th>3</th>\n",
       "      <td>4</td>\n",
       "      <td>Paul Martin</td>\n",
       "      <td>13</td>\n",
       "      <td>Lead Data Engineer</td>\n",
       "      <td>architected enterprise data solutions on AWS/G...</td>\n",
       "      <td>Paul Martin 13 years Lead Data Engineer archit...</td>\n",
       "    </tr>\n",
       "    <tr>\n",
       "      <th>4</th>\n",
       "      <td>5</td>\n",
       "      <td>Robert Sullivan</td>\n",
       "      <td>7</td>\n",
       "      <td>Sr Data Engineer</td>\n",
       "      <td>enhanced data warehousing strategies with Reds...</td>\n",
       "      <td>Robert Sullivan 7 years Sr Data Engineer enhan...</td>\n",
       "    </tr>\n",
       "  </tbody>\n",
       "</table>\n",
       "</div>"
      ],
      "text/plain": [
       "   id               name  total_experience current_designation  \\\n",
       "0   1  Michael Carpenter                 2       Data Engineer   \n",
       "1   2       Katie Turner                10    Sr Data Engineer   \n",
       "2   3     Michael Graham                10    Sr Data Engineer   \n",
       "3   4        Paul Martin                13  Lead Data Engineer   \n",
       "4   5    Robert Sullivan                 7    Sr Data Engineer   \n",
       "\n",
       "                                            overview  \\\n",
       "0  managed database solutions in PostgreSQL/Mongo...   \n",
       "1  integrated streaming data processing using Kaf...   \n",
       "2  drove cloud migrations and optimizations. deve...   \n",
       "3  architected enterprise data solutions on AWS/G...   \n",
       "4  enhanced data warehousing strategies with Reds...   \n",
       "\n",
       "                                    combined_details  \n",
       "0  Michael Carpenter 2 years Data Engineer manage...  \n",
       "1  Katie Turner 10 years Sr Data Engineer integra...  \n",
       "2  Michael Graham 10 years Sr Data Engineer drove...  \n",
       "3  Paul Martin 13 years Lead Data Engineer archit...  \n",
       "4  Robert Sullivan 7 years Sr Data Engineer enhan...  "
      ]
     },
     "execution_count": 37,
     "metadata": {},
     "output_type": "execute_result"
    }
   ],
   "source": [
    "df.head()"
   ]
  },
  {
   "cell_type": "code",
   "execution_count": 38,
   "id": "04f3dd03-863d-4d17-831f-78d8fa47079c",
   "metadata": {
    "tags": []
   },
   "outputs": [
    {
     "name": "stderr",
     "output_type": "stream",
     "text": [
      "100%|██████████| 11/11 [00:12<00:00,  1.12s/it]\n"
     ]
    }
   ],
   "source": [
    "def get_embeddings_wrapper(texts, batch_size=5):\n",
    "    embeddings = []\n",
    "    for i in tqdm.tqdm(range(0, len(texts), batch_size)):\n",
    "        time.sleep(1) \n",
    "        batch_texts = texts[i:i+batch_size]\n",
    "        batch_embeddings = model.get_embeddings(batch_texts)\n",
    "        embeddings.extend([embedding.values for embedding in batch_embeddings])\n",
    "    return embeddings\n",
    "\n",
    "combined_texts = df['combined_details'].tolist()\n",
    "df['embedding'] = get_embeddings_wrapper(combined_texts)"
   ]
  },
  {
   "cell_type": "code",
   "execution_count": 39,
   "id": "d4f96ed2-8fda-4d48-9f83-50737f9f0309",
   "metadata": {
    "tags": []
   },
   "outputs": [
    {
     "data": {
      "text/html": [
       "<div>\n",
       "<style scoped>\n",
       "    .dataframe tbody tr th:only-of-type {\n",
       "        vertical-align: middle;\n",
       "    }\n",
       "\n",
       "    .dataframe tbody tr th {\n",
       "        vertical-align: top;\n",
       "    }\n",
       "\n",
       "    .dataframe thead th {\n",
       "        text-align: right;\n",
       "    }\n",
       "</style>\n",
       "<table border=\"1\" class=\"dataframe\">\n",
       "  <thead>\n",
       "    <tr style=\"text-align: right;\">\n",
       "      <th></th>\n",
       "      <th>id</th>\n",
       "      <th>name</th>\n",
       "      <th>total_experience</th>\n",
       "      <th>current_designation</th>\n",
       "      <th>overview</th>\n",
       "      <th>combined_details</th>\n",
       "      <th>embedding</th>\n",
       "    </tr>\n",
       "  </thead>\n",
       "  <tbody>\n",
       "    <tr>\n",
       "      <th>0</th>\n",
       "      <td>1</td>\n",
       "      <td>Michael Carpenter</td>\n",
       "      <td>2</td>\n",
       "      <td>Data Engineer</td>\n",
       "      <td>managed database solutions in PostgreSQL/Mongo...</td>\n",
       "      <td>Michael Carpenter 2 years Data Engineer manage...</td>\n",
       "      <td>[-0.005255071446299553, -0.013083773665130138,...</td>\n",
       "    </tr>\n",
       "    <tr>\n",
       "      <th>1</th>\n",
       "      <td>2</td>\n",
       "      <td>Katie Turner</td>\n",
       "      <td>10</td>\n",
       "      <td>Sr Data Engineer</td>\n",
       "      <td>integrated streaming data processing using Kaf...</td>\n",
       "      <td>Katie Turner 10 years Sr Data Engineer integra...</td>\n",
       "      <td>[-0.013578824698925018, -0.02418570965528488, ...</td>\n",
       "    </tr>\n",
       "    <tr>\n",
       "      <th>2</th>\n",
       "      <td>3</td>\n",
       "      <td>Michael Graham</td>\n",
       "      <td>10</td>\n",
       "      <td>Sr Data Engineer</td>\n",
       "      <td>drove cloud migrations and optimizations. deve...</td>\n",
       "      <td>Michael Graham 10 years Sr Data Engineer drove...</td>\n",
       "      <td>[-0.03245685249567032, -0.03547470644116402, -...</td>\n",
       "    </tr>\n",
       "    <tr>\n",
       "      <th>3</th>\n",
       "      <td>4</td>\n",
       "      <td>Paul Martin</td>\n",
       "      <td>13</td>\n",
       "      <td>Lead Data Engineer</td>\n",
       "      <td>architected enterprise data solutions on AWS/G...</td>\n",
       "      <td>Paul Martin 13 years Lead Data Engineer archit...</td>\n",
       "      <td>[-0.02958768606185913, -0.03361005708575249, -...</td>\n",
       "    </tr>\n",
       "    <tr>\n",
       "      <th>4</th>\n",
       "      <td>5</td>\n",
       "      <td>Robert Sullivan</td>\n",
       "      <td>7</td>\n",
       "      <td>Sr Data Engineer</td>\n",
       "      <td>enhanced data warehousing strategies with Reds...</td>\n",
       "      <td>Robert Sullivan 7 years Sr Data Engineer enhan...</td>\n",
       "      <td>[-0.032230257987976074, -0.04934456944465637, ...</td>\n",
       "    </tr>\n",
       "  </tbody>\n",
       "</table>\n",
       "</div>"
      ],
      "text/plain": [
       "   id               name  total_experience current_designation  \\\n",
       "0   1  Michael Carpenter                 2       Data Engineer   \n",
       "1   2       Katie Turner                10    Sr Data Engineer   \n",
       "2   3     Michael Graham                10    Sr Data Engineer   \n",
       "3   4        Paul Martin                13  Lead Data Engineer   \n",
       "4   5    Robert Sullivan                 7    Sr Data Engineer   \n",
       "\n",
       "                                            overview  \\\n",
       "0  managed database solutions in PostgreSQL/Mongo...   \n",
       "1  integrated streaming data processing using Kaf...   \n",
       "2  drove cloud migrations and optimizations. deve...   \n",
       "3  architected enterprise data solutions on AWS/G...   \n",
       "4  enhanced data warehousing strategies with Reds...   \n",
       "\n",
       "                                    combined_details  \\\n",
       "0  Michael Carpenter 2 years Data Engineer manage...   \n",
       "1  Katie Turner 10 years Sr Data Engineer integra...   \n",
       "2  Michael Graham 10 years Sr Data Engineer drove...   \n",
       "3  Paul Martin 13 years Lead Data Engineer archit...   \n",
       "4  Robert Sullivan 7 years Sr Data Engineer enhan...   \n",
       "\n",
       "                                           embedding  \n",
       "0  [-0.005255071446299553, -0.013083773665130138,...  \n",
       "1  [-0.013578824698925018, -0.02418570965528488, ...  \n",
       "2  [-0.03245685249567032, -0.03547470644116402, -...  \n",
       "3  [-0.02958768606185913, -0.03361005708575249, -...  \n",
       "4  [-0.032230257987976074, -0.04934456944465637, ...  "
      ]
     },
     "execution_count": 39,
     "metadata": {},
     "output_type": "execute_result"
    }
   ],
   "source": [
    "df.head()"
   ]
  },
  {
   "cell_type": "code",
   "execution_count": 33,
   "id": "f6c91c4c-29ed-4f30-b119-8b664344f5c5",
   "metadata": {
    "tags": []
   },
   "outputs": [],
   "source": [
    "jsonl_string = df[[\"id\", \"name\",\"total_experience\",\"current_designation\",\"overview\",\"embedding\"]].to_json(orient=\"records\", lines=True)\n",
    "\n",
    "with open(\"candidates.json\", \"w\") as f:\n",
    "    f.write(jsonl_string)"
   ]
  },
  {
   "cell_type": "code",
   "execution_count": 7,
   "id": "fb5d730f-d17c-4def-9547-119955aaab10",
   "metadata": {
    "tags": []
   },
   "outputs": [
    {
     "name": "stdout",
     "output_type": "stream",
     "text": [
      "Copying file://candidates.json [Content-Type=application/json]...\n",
      "/ [1 files][569.5 KiB/569.5 KiB]                                                \n",
      "Operation completed over 1 objects/569.5 KiB.                                    \n"
     ]
    }
   ],
   "source": [
    "BUCKET_URI = f\"gs://no-latency-labs-documents\"\n",
    "! gsutil cp candidates.json {BUCKET_URI}"
   ]
  },
  {
   "cell_type": "code",
   "execution_count": 8,
   "id": "5453ed96-5eaf-4f2b-bc26-9b4ba4c32b16",
   "metadata": {
    "tags": []
   },
   "outputs": [
    {
     "name": "stdout",
     "output_type": "stream",
     "text": [
      "Creating MatchingEngineIndex\n",
      "Create MatchingEngineIndex backing LRO: projects/499192289487/locations/us-central1/indexes/6429895620722425856/operations/6679298977122222080\n",
      "MatchingEngineIndex created. Resource name: projects/499192289487/locations/us-central1/indexes/6429895620722425856\n",
      "To use this MatchingEngineIndex in another session:\n",
      "index = aiplatform.MatchingEngineIndex('projects/499192289487/locations/us-central1/indexes/6429895620722425856')\n"
     ]
    }
   ],
   "source": [
    "from google.cloud import aiplatform\n",
    "\n",
    "aiplatform.init(project=PROJECT_ID, location=LOCATION)\n",
    "\n",
    "# my_index = aiplatform.MatchingEngineIndex.create_tree_ah_index(\n",
    "#     display_name=f\"job-applicants-idx\",\n",
    "#     contents_delta_uri=BUCKET_URI,\n",
    "#     dimensions=768,\n",
    "#     approximate_neighbors_count=20,\n",
    "#     distance_measure_type=\"DOT_PRODUCT_DISTANCE\",\n",
    "# )\n",
    "\n",
    "my_index_id = \"6429895620722425856\"\n",
    "my_index = aiplatform.MatchingEngineIndex(my_index_id)"
   ]
  },
  {
   "cell_type": "code",
   "execution_count": 9,
   "id": "5bf6e504-8f91-4681-a98f-11affed2c1df",
   "metadata": {},
   "outputs": [
    {
     "name": "stdout",
     "output_type": "stream",
     "text": [
      "Creating MatchingEngineIndexEndpoint\n",
      "Create MatchingEngineIndexEndpoint backing LRO: projects/499192289487/locations/us-central1/indexEndpoints/3561665608040841216/operations/5808978349132873728\n",
      "MatchingEngineIndexEndpoint created. Resource name: projects/499192289487/locations/us-central1/indexEndpoints/3561665608040841216\n",
      "To use this MatchingEngineIndexEndpoint in another session:\n",
      "index_endpoint = aiplatform.MatchingEngineIndexEndpoint('projects/499192289487/locations/us-central1/indexEndpoints/3561665608040841216')\n"
     ]
    }
   ],
   "source": [
    "index_endpoint = aiplatform.MatchingEngineIndexEndpoint.create(\n",
    "    display_name=f\"job-applicants-endpoint\",\n",
    "    public_endpoint_enabled=True\n",
    ")"
   ]
  },
  {
   "cell_type": "code",
   "execution_count": 11,
   "id": "ed580af0-ac23-4ceb-ab43-aaea2aa373d8",
   "metadata": {},
   "outputs": [
    {
     "name": "stdout",
     "output_type": "stream",
     "text": [
      "Deploying index MatchingEngineIndexEndpoint index_endpoint: projects/499192289487/locations/us-central1/indexEndpoints/3561665608040841216\n",
      "Deploy index MatchingEngineIndexEndpoint index_endpoint backing LRO: projects/499192289487/locations/us-central1/indexEndpoints/3561665608040841216/operations/41556076331532288\n",
      "MatchingEngineIndexEndpoint index_endpoint Deployed index. Resource name: projects/499192289487/locations/us-central1/indexEndpoints/3561665608040841216\n"
     ]
    },
    {
     "data": {
      "text/plain": [
       "<google.cloud.aiplatform.matching_engine.matching_engine_index_endpoint.MatchingEngineIndexEndpoint object at 0x7fe4a45cd8d0> \n",
       "resource name: projects/499192289487/locations/us-central1/indexEndpoints/3561665608040841216"
      ]
     },
     "execution_count": 11,
     "metadata": {},
     "output_type": "execute_result"
    }
   ],
   "source": [
    "DEPLOYED_INDEX_ID = f\"job_applicants_index\"\n",
    "\n",
    "index_endpoint.deploy_index(index=my_index, deployed_index_id=DEPLOYED_INDEX_ID)"
   ]
  },
  {
   "cell_type": "code",
   "execution_count": 45,
   "id": "6a01c0da-0c4c-46e2-a90e-94090be79dd0",
   "metadata": {
    "tags": []
   },
   "outputs": [
    {
     "name": "stderr",
     "output_type": "stream",
     "text": [
      "100%|██████████| 1/1 [00:01<00:00,  1.11s/it]\n"
     ]
    }
   ],
   "source": [
    "# user_prompt = \"We are looking for a junior data engineer with around 2 to 4 years of experience\"\n",
    "\n",
    "user_prompt = \"We are looking for a data analyst with experience in creating dashboards and writing SQL queries\"\n",
    "\n",
    "test_embeddings = get_embeddings_wrapper([user_prompt])\n",
    "\n",
    "new_index_endpoint = aiplatform.MatchingEngineIndexEndpoint('projects/499192289487/locations/us-central1/indexEndpoints/3561665608040841216')\n",
    "\n",
    "response = index_endpoint.find_neighbors(\n",
    "    deployed_index_id=DEPLOYED_INDEX_ID,\n",
    "    queries=test_embeddings,\n",
    "    num_neighbors=5,\n",
    ")"
   ]
  },
  {
   "cell_type": "code",
   "execution_count": 46,
   "id": "714b3a29-79f6-4e00-96dc-8e6b354ebc8b",
   "metadata": {},
   "outputs": [
    {
     "name": "stdout",
     "output_type": "stream",
     "text": [
      "0.7609 Olivia Dunn-assisted in data cleanup and preliminary analysis. created visual reports for stakeholder presentations. supported analytics projects with SQL and Excel. engaged in ongoing analytics tools and techniques training.-4\n",
      "0.7484 Amanda Whitney-supported analytics projects with SQL and Excel. engaged in ongoing analytics tools and techniques training. assisted in data cleanup and preliminary analysis. created visual reports for stakeholder presentations.-5\n",
      "0.7420 Sarah Spears-engaged in ongoing analytics tools and techniques training. assisted in data cleanup and preliminary analysis. created visual reports for stakeholder presentations. supported analytics projects with SQL and Excel.-3\n",
      "0.7390 Mr. James Mitchell DDS-created visual reports for stakeholder presentations. supported analytics projects with SQL and Excel. engaged in ongoing analytics tools and techniques training. assisted in data cleanup and preliminary analysis.-2\n",
      "0.7372 Brent Goodwin-supported analytics projects with SQL and Excel. engaged in ongoing analytics tools and techniques training. assisted in data cleanup and preliminary analysis. created visual reports for stakeholder presentations.-3\n"
     ]
    }
   ],
   "source": [
    "import numpy as np\n",
    "\n",
    "for idx, neighbor in enumerate(response[0]):\n",
    "    id = np.int64(neighbor.id)\n",
    "    similar = df.query(\"id == @id\", engine=\"python\")\n",
    "    print(f\"{neighbor.distance:.4f} {similar.name.values[0]}-{similar.overview.values[0]}-{similar.total_experience.values[0]}\")"
   ]
  },
  {
   "cell_type": "code",
   "execution_count": null,
   "id": "f79bec3a-9e77-4f36-85b5-7ea939cbd0f1",
   "metadata": {},
   "outputs": [],
   "source": []
  },
  {
   "cell_type": "code",
   "execution_count": null,
   "id": "385e1f9a-5546-49b6-944b-e1dddf0f07c7",
   "metadata": {},
   "outputs": [],
   "source": []
  },
  {
   "cell_type": "code",
   "execution_count": null,
   "id": "ac5a584a-154c-4523-93c7-ef2e03cfb060",
   "metadata": {},
   "outputs": [],
   "source": []
  }
 ],
 "metadata": {
  "environment": {
   "kernel": "python3",
   "name": "common-cpu.m119",
   "type": "gcloud",
   "uri": "us-docker.pkg.dev/deeplearning-platform-release/gcr.io/base-cpu:m119"
  },
  "kernelspec": {
   "display_name": "Python 3",
   "language": "python",
   "name": "python3"
  },
  "language_info": {
   "codemirror_mode": {
    "name": "ipython",
    "version": 3
   },
   "file_extension": ".py",
   "mimetype": "text/x-python",
   "name": "python",
   "nbconvert_exporter": "python",
   "pygments_lexer": "ipython3",
   "version": "3.10.14"
  }
 },
 "nbformat": 4,
 "nbformat_minor": 5
}
